{
 "cells": [
  {
   "cell_type": "code",
   "execution_count": 1,
   "metadata": {
    "collapsed": true
   },
   "outputs": [],
   "source": [
    "from sympy import *\n",
    "from mpmath import *\n",
    "from numpy import *\n",
    "from sympy import integrate, log, exp, cos, oo, sin\n",
    "import math\n",
    "from scipy.special import *\n",
    "from sympy import symbols, diff\n",
    "from numpy.polynomial import legendre as leg"
   ]
  },
  {
   "cell_type": "markdown",
   "metadata": {},
   "source": [
    "                                         Задаём функцию правой части"
   ]
  },
  {
   "cell_type": "code",
   "execution_count": 2,
   "metadata": {
    "collapsed": true
   },
   "outputs": [],
   "source": [
    "def f(x):\n",
    "    return sin(x)"
   ]
  },
  {
   "cell_type": "markdown",
   "metadata": {},
   "source": [
    "                                                Задаём ядро"
   ]
  },
  {
   "cell_type": "code",
   "execution_count": 3,
   "metadata": {
    "collapsed": true
   },
   "outputs": [],
   "source": [
    "def K(x,t):\n",
    "    return 1-x*cos(x*t)"
   ]
  },
  {
   "cell_type": "markdown",
   "metadata": {},
   "source": [
    "                                               Разложение ядра"
   ]
  },
  {
   "cell_type": "code",
   "execution_count": 4,
   "metadata": {
    "collapsed": true
   },
   "outputs": [],
   "source": [
    "def Hn(x, s, n):\n",
    "    R = []\n",
    "    for k in range(0,n+1):\n",
    "        res  = ((1/factorial(k, exact=False))*(diff(K(x,s), x ,k)).subs(x,'0'))\n",
    "        R.append(res)\n",
    "    #print(R)\n",
    "\n",
    "    B = []\n",
    "    for k in range(0,n+1):\n",
    "        res  = R[k]*(x**k)\n",
    "        B.append(res)\n",
    "    return B"
   ]
  },
  {
   "cell_type": "markdown",
   "metadata": {},
   "source": [
    "                         Вычисление приближенного решения заменой ядра на вырожденное"
   ]
  },
  {
   "cell_type": "code",
   "execution_count": 5,
   "metadata": {
    "collapsed": true
   },
   "outputs": [],
   "source": [
    "def Zamena(x, s, a, b, n):\n",
    "\n",
    "                    # Генерируем список искомых коэффициентов для уравнения\n",
    "        \n",
    "    ci = [Symbol(\"ci_%i\" % k) for k in range(n+1)]\n",
    "\n",
    "                        # Вычисляем разложение на матрицы Ai(x) и Bi(s)\n",
    "    R = []\n",
    "    for k in range(0,n+1):\n",
    "        res  = ((1/factorial(k, exact=False))*(diff(K(x,s), x ,k)).subs(x,'0'))\n",
    "        R.append(res)\n",
    "\n",
    "    B = []\n",
    "    for k in range(0,n+1):\n",
    "        res  = R[k]*(x**k)\n",
    "        B.append(res.subs(s,'1'))\n",
    "    \n",
    "    N = []\n",
    "    for k in range(0,n+1):\n",
    "        r  = B[k]\n",
    "        N.append(r.subs(x,'1'))\n",
    "    \n",
    "    M = []\n",
    "    for k in range(0,n+1):\n",
    "        if B[k] == 0:\n",
    "            ir = N[k]\n",
    "        else:\n",
    "            ir  = B[k]*N[k]**(-1)\n",
    "        M.append(ir)\n",
    "    \n",
    "################################\n",
    "    An = []\n",
    "    for k in range(0,n+1):\n",
    "        h  = M[k]*ci[k]\n",
    "        An.append(h)\n",
    "    \n",
    "################################\n",
    "\n",
    "                                            #решение ищем в виде\n",
    "    \n",
    "    itog = f(x) + sum((M[k]*ci[k] for k in range(0,n+1)))\n",
    "\n",
    "    \n",
    "                                    # Вычисляем коэффициенты правой части\n",
    "        \n",
    "    eq_2 = [integrate(f(s)*R[k], (s, a, b)) \\\n",
    "            for k in range(0,n+1)]\n",
    "    \n",
    "                                            # Вычисляем левую часть\n",
    "        \n",
    "    V = []\n",
    "    for j in range(0,n+1):\n",
    "        eq_3 = sum(integrate(M[k].subs(x,s)*R[j]*ci[k], (s, a, b)) \\\n",
    "                for k in range(0,n+1))\n",
    "        V.append(eq_3)\n",
    "\n",
    "    it = [An[k].subs(x,'1') for k in range(0,n+1)]\n",
    "    \n",
    "                                    # Генерируем систему уравнений\n",
    "        \n",
    "    System = []\n",
    "    for k in range(0,n+1):\n",
    "        if (it[k] == 0): \n",
    "            continue\n",
    "        elif (V[k] == 0):\n",
    "            continue\n",
    "        else:\n",
    "            system = Eq(it[k] - V[k],eq_2[k])\n",
    "            System.append(system)\n",
    "\n",
    "                            # Решаем систему и находим коэффициенты\n",
    "\n",
    "    coeffs = solve(System, ci)\n",
    "    #print(coeffs)\n",
    "    \n",
    "    return itog.subs(coeffs)"
   ]
  },
  {
   "cell_type": "code",
   "execution_count": 6,
   "metadata": {
    "collapsed": false
   },
   "outputs": [
    {
     "name": "stdout",
     "output_type": "stream",
     "text": [
      "0.167364032282368*x**3 - 1.0030774044049*x + sin(x) + 1.0030774044049\n",
      "==============================\n",
      "1.00883501709026\n"
     ]
    }
   ],
   "source": [
    "x = Symbol('x')\n",
    "t = Symbol('t')\n",
    "s = Symbol('s')\n",
    "\n",
    "a = 0\n",
    "b = 1\n",
    "n = 3\n",
    "\n",
    "print(Zamena(x,s,a,b,n))\n",
    "print('==============================')\n",
    "print(Zamena(x,s,a,b,n).subs(x,'1').evalf())"
   ]
  },
  {
   "cell_type": "markdown",
   "metadata": {},
   "source": [
    "                                Получение ряда Тейлора и Маклорена"
   ]
  },
  {
   "cell_type": "code",
   "execution_count": 56,
   "metadata": {
    "collapsed": true
   },
   "outputs": [],
   "source": [
    "def Taylor(f,x,a,n):\n",
    "    R = []\n",
    "    for k in range(0,n+1):\n",
    "        res  = ((1/factorial(k, exact=False))*((x-a)**k)*diff(f, x ,k))\n",
    "        R.append(res)\n",
    "    return R"
   ]
  },
  {
   "cell_type": "code",
   "execution_count": 84,
   "metadata": {
    "collapsed": true
   },
   "outputs": [],
   "source": [
    "def Maklaren(f,x,a,n):\n",
    "    R = []\n",
    "    for k in range(0,n+1):\n",
    "        res  = ((1/factorial(k, exact=False))*(t**k)*diff(f, x ,k))\n",
    "        R.append(res)\n",
    "    return R"
   ]
  }
 ],
 "metadata": {
  "kernelspec": {
   "display_name": "Python [Root]",
   "language": "python",
   "name": "Python [Root]"
  },
  "language_info": {
   "codemirror_mode": {
    "name": "ipython",
    "version": 3
   },
   "file_extension": ".py",
   "mimetype": "text/x-python",
   "name": "python",
   "nbconvert_exporter": "python",
   "pygments_lexer": "ipython3",
   "version": "3.5.2"
  }
 },
 "nbformat": 4,
 "nbformat_minor": 0
}
