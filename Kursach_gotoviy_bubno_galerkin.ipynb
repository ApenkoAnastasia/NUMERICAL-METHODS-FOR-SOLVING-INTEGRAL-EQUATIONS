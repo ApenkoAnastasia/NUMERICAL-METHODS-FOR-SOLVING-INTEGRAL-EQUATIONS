{
 "cells": [
  {
   "cell_type": "code",
   "execution_count": 1,
   "metadata": {
    "collapsed": true
   },
   "outputs": [],
   "source": [
    "from sympy import *\n",
    "from mpmath import *\n",
    "from numpy import *\n",
    "from sympy import integrate, log, exp, cos, oo\n",
    "import math\n",
    "from scipy.special import *\n",
    "from sympy import symbols, diff\n",
    "from numpy.polynomial import legendre as leg"
   ]
  },
  {
   "cell_type": "markdown",
   "metadata": {},
   "source": [
    "                                    Сдвинутые полиномы Лежандра"
   ]
  },
  {
   "cell_type": "code",
   "execution_count": 2,
   "metadata": {
    "collapsed": true
   },
   "outputs": [],
   "source": [
    "def Ln(x, n):\n",
    "    return simplify((1/factorial(n, exact=False))*diff((x**2 - x)**n, x ,n))"
   ]
  },
  {
   "cell_type": "markdown",
   "metadata": {},
   "source": [
    "                                        Задаём функцию f(x)"
   ]
  },
  {
   "cell_type": "code",
   "execution_count": 3,
   "metadata": {
    "collapsed": true
   },
   "outputs": [],
   "source": [
    "def f(x):\n",
    "    return exp(x)-x"
   ]
  },
  {
   "cell_type": "markdown",
   "metadata": {},
   "source": [
    "                                            Задаём ядро"
   ]
  },
  {
   "cell_type": "code",
   "execution_count": 4,
   "metadata": {
    "collapsed": true
   },
   "outputs": [],
   "source": [
    "def K(x,t):\n",
    "    return ((x*t)-1)"
   ]
  },
  {
   "cell_type": "markdown",
   "metadata": {},
   "source": [
    "                    Задаём функцию, решающую уравнение методом Бубнова-Галёркина"
   ]
  },
  {
   "cell_type": "code",
   "execution_count": 6,
   "metadata": {
    "collapsed": true
   },
   "outputs": [],
   "source": [
    "sum = __builtins__.sum #__builtin__ - это модуль, содержащий встроенные функции и типы.\n",
    "\n",
    "def bubnov_galerkin(x, t, x0, x1, q):\n",
    "    \n",
    "                                    # Задаём базисные функции\n",
    "    basis = [Ln(x,k) for k in range(q+1)]\n",
    "\n",
    "                                # Генерируем коэффициенты для искомого приближённого решения\n",
    "    xi = [Symbol(\"xi_%i\" % k) for k in range(q+1)]\n",
    "\n",
    "                                # Приближённое решение будет иметь вид\n",
    "    u = sum(xi[k]*basis[k] for k in range(0,q+1))\n",
    "    pprint(u)\n",
    "\n",
    "                            # наше фи будет иметь вид обычной функции (без преобразований)   \n",
    "    \n",
    "    ode = lambda u: u\n",
    "\n",
    "                            # Проинтегрировали умноженное на фи от т ядро \n",
    "\n",
    "    Int = integrate(K(x,t)*(ode(u).subs(x,t)), (t, x0, x1))\n",
    "        \n",
    "                            # Умножаем поэлементно на к-ый элемент базиса каждую часть уравнения и интегрируем по х\n",
    "    eq_1 = [integrate(ode(u)*basis[k], (x, x0, x1)) \\\n",
    "        for k in range(0,q+1)]\n",
    "\n",
    "    eq_2 = [integrate(f(x)*basis[k], (x, x0, x1)) \\\n",
    "        for k in range(0,q+1)]\n",
    "\n",
    "    eq_3 = [integrate(Int*basis[k], (x, x0, x1)) \\\n",
    "        for k in range(0,q+1)]\n",
    "        \n",
    "\n",
    "                                        # Составляем систему уравнений \n",
    "    system = [Eq(eq_1[k]+eq_3[k],eq_2[k]) for k in range(0,q+1)]\n",
    "     \n",
    "                                        # Решаем полученные системы и получаем коэффициенты\n",
    "    coeffs = solve(system, (xi))\n",
    "    #print(coeffs)\n",
    "    pprint('-----------------------')\n",
    "\n",
    "                                        # Подставляем эти коэффициенты в приближенное решение\n",
    "    return u.subs(coeffs)\n"
   ]
  },
  {
   "cell_type": "markdown",
   "metadata": {},
   "source": [
    "                Задаём параметры и проверяем работу функции (получаем вид приближённого решения)"
   ]
  },
  {
   "cell_type": "code",
   "execution_count": 7,
   "metadata": {
    "collapsed": false
   },
   "outputs": [
    {
     "name": "stdout",
     "output_type": "stream",
     "text": [
      "                               ⎛     2              ⎞\n",
      "1.0⋅ξ₀ + ξ₁⋅(2.0⋅x - 1.0) + ξ₂⋅⎝6.0⋅x  - 6.0⋅x + 1.0⎠\n",
      "-----------------------\n",
      "                   2                                        \n",
      "0.839183976399499⋅x  - 2.58543860407186⋅x + 6.17716106168434\n"
     ]
    }
   ],
   "source": [
    "x = Symbol('x')\n",
    "t = Symbol('t')\n",
    "\n",
    "pprint(bubnov_galerkin(x, t, 0, 1, 2))"
   ]
  },
  {
   "cell_type": "markdown",
   "metadata": {},
   "source": [
    "                        Подставляем значение х и получаем точное решение уравнения"
   ]
  },
  {
   "cell_type": "code",
   "execution_count": 7,
   "metadata": {
    "collapsed": false
   },
   "outputs": [
    {
     "name": "stdout",
     "output_type": "stream",
     "text": [
      "-----------------------\n"
     ]
    },
    {
     "data": {
      "text/plain": [
       "4.43090643401198"
      ]
     },
     "execution_count": 7,
     "metadata": {},
     "output_type": "execute_result"
    }
   ],
   "source": [
    "bubnov_galerkin(x, t, 0, 1, 2).subs(x,'1').evalf()"
   ]
  }
 ],
 "metadata": {
  "kernelspec": {
   "display_name": "Python [Root]",
   "language": "python",
   "name": "Python [Root]"
  },
  "language_info": {
   "codemirror_mode": {
    "name": "ipython",
    "version": 3
   },
   "file_extension": ".py",
   "mimetype": "text/x-python",
   "name": "python",
   "nbconvert_exporter": "python",
   "pygments_lexer": "ipython3",
   "version": "3.5.2"
  }
 },
 "nbformat": 4,
 "nbformat_minor": 0
}
