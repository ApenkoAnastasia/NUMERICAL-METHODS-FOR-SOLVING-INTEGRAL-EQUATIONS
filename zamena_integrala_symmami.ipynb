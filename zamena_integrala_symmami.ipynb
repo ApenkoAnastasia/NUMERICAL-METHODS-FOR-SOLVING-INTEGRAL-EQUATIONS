{
 "cells": [
  {
   "cell_type": "code",
   "execution_count": 1,
   "metadata": {
    "collapsed": true
   },
   "outputs": [],
   "source": [
    "from sympy import *\n",
    "from mpmath import *\n",
    "from numpy import *\n",
    "from sympy import integrate, log, exp, cos, oo\n",
    "import math\n",
    "from scipy.special import *\n",
    "from sympy import symbols, diff\n",
    "from numpy.polynomial import legendre as leg"
   ]
  },
  {
   "cell_type": "markdown",
   "metadata": {},
   "source": [
    "                                                Функция правой части"
   ]
  },
  {
   "cell_type": "code",
   "execution_count": 2,
   "metadata": {
    "collapsed": true
   },
   "outputs": [],
   "source": [
    "def f(x):\n",
    "    return exp(x)-x"
   ]
  },
  {
   "cell_type": "markdown",
   "metadata": {},
   "source": [
    "                                                    Ядро"
   ]
  },
  {
   "cell_type": "code",
   "execution_count": 11,
   "metadata": {
    "collapsed": true
   },
   "outputs": [],
   "source": [
    "def K(x,t):\n",
    "    return x*(exp(x*t) - 1)"
   ]
  },
  {
   "cell_type": "markdown",
   "metadata": {},
   "source": [
    "                                           Кэффициенты по формуле трапеций"
   ]
  },
  {
   "cell_type": "code",
   "execution_count": 4,
   "metadata": {
    "collapsed": true
   },
   "outputs": [],
   "source": [
    "def An(h, n):\n",
    "    Ai = []\n",
    "    for k in range(1,n+1):\n",
    "        if (k == 1):  \n",
    "            Ai.append(h/2)\n",
    "        elif (k == n):\n",
    "            Ai.append(h/2)\n",
    "        else:\n",
    "            Ai.append(h)\n",
    "    return Ai"
   ]
  },
  {
   "cell_type": "markdown",
   "metadata": {},
   "source": [
    "                                           Получение приближенного решения"
   ]
  },
  {
   "cell_type": "code",
   "execution_count": 5,
   "metadata": {
    "collapsed": false
   },
   "outputs": [],
   "source": [
    "def summa(x,t,a,b,n):\n",
    "\n",
    "                            #расчёт квадратурной формулы (формула трапеций) и точек по ней\n",
    "    h = (b-a)/(n-1)\n",
    "\n",
    "    xi = [a+(k-1)*h for k in range(1,n+1)]\n",
    "\n",
    "                                            #искомые коэффициенты\n",
    "        \n",
    "    fi = [Symbol(\"fi(%i)\" %k) for k in range(0,n)]  \n",
    "\n",
    "                            #ядро, с подставленными в него точками вместо х    \n",
    "        \n",
    "    fu = [K(xi[k],t) for k in range(0,n)]\n",
    "\n",
    "                                            #заменённый интеграл\n",
    "    R = []\n",
    "    for j in range(0,n):\n",
    "        res  = sum((An(h,n)[k]*fu[j].subs(t,xi[k]))*fi[k] for k in range(0,n))\n",
    "        R.append(res)\n",
    "\n",
    "\n",
    "                                    #функция правой части, с подставленными в неё точками\n",
    "            \n",
    "    fx = [f(xi[k]) for k in range(0,n)]\n",
    "    \n",
    "                                            #система уравнений\n",
    "        \n",
    "    system = [Eq(fi[k]+R[k],fx[k]) for k in range(0,n)]\n",
    "    \n",
    "                                        #вычисление коэффициентов\n",
    "        \n",
    "    coeffs = solve(system, fi)\n",
    "    \n",
    "                                    #подстановка коэффициентов в приближенное решение\n",
    "        \n",
    "    itog = f(x) - sum((An(h,n)[k]*K(x,t).subs(t,xi[k]))*fi[k] for k in range(0,n))\n",
    "\n",
    "#    print(xi)\n",
    "#    print(h)\n",
    "#    print(An(h,n))\n",
    "#    print('-----------------')\n",
    "#    print(fi)\n",
    "\n",
    "#    print('-----------------')\n",
    "#    print(fu)\n",
    "\n",
    "#    print('-----------------')\n",
    "#    print(fx)\n",
    "#    print('-----------------')\n",
    "#    print(R)\n",
    "#    print('-----------------')\n",
    "#    print(system)\n",
    "#    print('*****************')\n",
    "\n",
    "#    print(coeffs)\n",
    "    return itog.subs(coeffs)\n"
   ]
  },
  {
   "cell_type": "code",
   "execution_count": 12,
   "metadata": {
    "collapsed": false
   },
   "outputs": [
    {
     "name": "stdout",
     "output_type": "stream",
     "text": [
      "-0.49935726598023*x*(exp(0.5*x) - 1) - 0.243838654716107*x*(exp(1.0*x) - 1) - x + exp(x)\n"
     ]
    }
   ],
   "source": [
    "x = Symbol('x')\n",
    "t = Symbol('t')\n",
    "a = 0\n",
    "b = 1\n",
    "n = 3\n",
    "\n",
    "print(summa(x,t,a,b,n))"
   ]
  },
  {
   "cell_type": "code",
   "execution_count": null,
   "metadata": {
    "collapsed": true
   },
   "outputs": [],
   "source": []
  }
 ],
 "metadata": {
  "kernelspec": {
   "display_name": "Python [Root]",
   "language": "python",
   "name": "Python [Root]"
  },
  "language_info": {
   "codemirror_mode": {
    "name": "ipython",
    "version": 3
   },
   "file_extension": ".py",
   "mimetype": "text/x-python",
   "name": "python",
   "nbconvert_exporter": "python",
   "pygments_lexer": "ipython3",
   "version": "3.5.2"
  }
 },
 "nbformat": 4,
 "nbformat_minor": 0
}
